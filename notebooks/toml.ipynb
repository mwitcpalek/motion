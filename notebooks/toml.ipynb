{
 "cells": [
  {
   "cell_type": "code",
   "execution_count": null,
   "metadata": {},
   "outputs": [],
   "source": [
    "import json\n",
    "import toml\n",
    "import subprocess\n",
    "import pandas as pd\n",
    "import matplotlib.pyplot as plt\n",
    "%matplotlib notebook"
   ]
  },
  {
   "cell_type": "code",
   "execution_count": null,
   "metadata": {},
   "outputs": [],
   "source": [
    "toml_str = \"\"\"\n",
    "waypoints = [\n",
    "  {x = 0.0, y = 0.0, angle = 0.0},\n",
    "  {x = 5.0, y = 4.5, angle = 90.0},\n",
    "  {x = 12.5, y = 9.5, angle = 0.0},\n",
    "  {x = 15.5, y = 9.5, angle = 0.0},\n",
    "  {x = 22.5, y = 4.0, angle = -90.0},\n",
    "  {x = 22.5, y = -10.0, angle = -90.0},\n",
    "  {x = 15.0, y = -17.5, angle = -180.0},\n",
    "  {x = 10.0, y = -17.5, angle = -180.0},\n",
    "  {x = 5.0, y = -10.0, angle = 90.0},\n",
    "  {x = 5.0, y = -5.0, angle = 90.0},\n",
    "  {x = 0.0, y = 0.0, angle = 0.0},\n",
    "]\n",
    "fit              = \"HERMITE_CUBIC\"\n",
    "sample_count     = 100_000\n",
    "dt               = 0.050    # sec\n",
    "max_velocity     = 2.5   # m/sec\n",
    "max_acceleration = 5.0  # m/sec/sec\n",
    "max_jerk         = 50.0  # m/sec/sec/sec\n",
    "\"\"\""
   ]
  },
  {
   "cell_type": "code",
   "execution_count": null,
   "metadata": {},
   "outputs": [],
   "source": [
    "process = subprocess.run(\n",
    "    \"MOTION_OPTS=-Djava.library.path={0}/lib {0}/bin/motion '{1}'\".format(\n",
    "        \"../build/install/motion\",\n",
    "        json.dumps({\"pathfinder\": {\"toml\": toml_str}})),\n",
    "    shell=True)\n",
    "\n",
    "df = pd.read_csv(\"trajectory.csv\")\n",
    "path = toml.loads(toml_str)\n",
    "wp = pd.DataFrame(path['waypoints'])"
   ]
  },
  {
   "cell_type": "code",
   "execution_count": null,
   "metadata": {},
   "outputs": [],
   "source": [
    "ax = df.plot.scatter('x', 'y')\n",
    "wp.plot.scatter('x', 'y', c='r', ax=ax)\n",
    "ax.axis('equal')\n",
    "plt.grid(True, color='lightgray', linestyle='--', linewidth=0.6)"
   ]
  }
 ],
 "metadata": {
  "kernelspec": {
   "display_name": "Python 3",
   "language": "python",
   "name": "python3"
  },
  "language_info": {
   "codemirror_mode": {
    "name": "ipython",
    "version": 3
   },
   "file_extension": ".py",
   "mimetype": "text/x-python",
   "name": "python",
   "nbconvert_exporter": "python",
   "pygments_lexer": "ipython3",
   "version": "3.6.4"
  }
 },
 "nbformat": 4,
 "nbformat_minor": 2
}
