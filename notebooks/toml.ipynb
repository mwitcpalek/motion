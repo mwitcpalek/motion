{
 "cells": [
  {
   "cell_type": "code",
   "execution_count": 1,
   "metadata": {},
   "outputs": [],
   "source": [
    "import toml\n",
    "import json"
   ]
  },
  {
   "cell_type": "code",
   "execution_count": 2,
   "metadata": {},
   "outputs": [],
   "source": [
    "toml_str = \"\"\"\n",
    "waypoints = [\n",
    "  {x = 0.0, y = 0.0, angle = 0.0},\n",
    "  {x = 3.0, y = 0.0, angle = 0.0},\n",
    "  {x = 3.0, y = 3.0, angle = 0.0},\n",
    "]\n",
    "fit              = \"HERMITE_CUBIC\"\n",
    "sample_count     = 100_000\n",
    "dt               = 0.050    # sec\n",
    "max_velocity     = 2.5      # m/sec\n",
    "max_acceleration = 5.0      # m/sec/sec\n",
    "max_jerk         = 50.0     # m/sec/sec/sec\n",
    "\"\"\""
   ]
  },
  {
   "cell_type": "code",
   "execution_count": 3,
   "metadata": {},
   "outputs": [
    {
     "data": {
      "text/plain": [
       "{'dt': 0.05,\n",
       " 'fit': 'HERMITE_CUBIC',\n",
       " 'max_acceleration': 5.0,\n",
       " 'max_jerk': 50.0,\n",
       " 'max_velocity': 2.5,\n",
       " 'sample_count': 100000,\n",
       " 'waypoints': [{'angle': 0.0, 'x': 0.0, 'y': 0.0},\n",
       "  {'angle': 0.0, 'x': 3.0, 'y': 0.0},\n",
       "  {'angle': 0.0, 'x': 3.0, 'y': 3.0}]}"
      ]
     },
     "execution_count": 3,
     "metadata": {},
     "output_type": "execute_result"
    }
   ],
   "source": [
    "toml.loads(toml_str)"
   ]
  },
  {
   "cell_type": "code",
   "execution_count": 4,
   "metadata": {},
   "outputs": [],
   "source": [
    "motion_input = {\"pathfinder\": toml_str}"
   ]
  },
  {
   "cell_type": "code",
   "execution_count": 6,
   "metadata": {},
   "outputs": [
    {
     "data": {
      "text/plain": [
       "'{\"pathfinder\": \"\\\\nwaypoints = [\\\\n  {x = 0.0, y = 0.0, angle = 0.0},\\\\n  {x = 3.0, y = 0.0, angle = 0.0},\\\\n  {x = 3.0, y = 3.0, angle = 0.0},\\\\n]\\\\nfit              = \\\\\"HERMITE_CUBIC\\\\\"\\\\nsample_count     = 100_000\\\\ndt               = 0.050    # sec\\\\nmax_velocity     = 2.5      # m/sec\\\\nmax_acceleration = 5.0      # m/sec/sec\\\\nmax_jerk         = 50.0     # m/sec/sec/sec\\\\n\"}'"
      ]
     },
     "execution_count": 6,
     "metadata": {},
     "output_type": "execute_result"
    }
   ],
   "source": [
    "json.dumps(motion_input)"
   ]
  },
  {
   "cell_type": "code",
   "execution_count": null,
   "metadata": {},
   "outputs": [],
   "source": []
  }
 ],
 "metadata": {
  "kernelspec": {
   "display_name": "Python 3",
   "language": "python",
   "name": "python3"
  },
  "language_info": {
   "codemirror_mode": {
    "name": "ipython",
    "version": 3
   },
   "file_extension": ".py",
   "mimetype": "text/x-python",
   "name": "python",
   "nbconvert_exporter": "python",
   "pygments_lexer": "ipython3",
   "version": "3.6.4"
  }
 },
 "nbformat": 4,
 "nbformat_minor": 2
}
