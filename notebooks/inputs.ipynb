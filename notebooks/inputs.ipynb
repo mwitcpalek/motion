{
 "cells": [
  {
   "cell_type": "markdown",
   "metadata": {},
   "source": [
    "# Joystick Transfer Functions\n",
    "\n",
    "This notebook demonstrated the algorithms for joystick transfer functions used to transform joystick operator input to the system demand signal.\n",
    "\n",
    "- Joystick Expo Scaling with Deadband\n",
    "- Output Rate Limiting"
   ]
  },
  {
   "cell_type": "code",
   "execution_count": null,
   "metadata": {},
   "outputs": [],
   "source": [
    "import pandas as pd\n",
    "import numpy as np\n",
    "import math\n",
    "import matplotlib.pyplot as plt\n",
    "%matplotlib notebook"
   ]
  },
  {
   "cell_type": "markdown",
   "metadata": {},
   "source": [
    "## Joystick Expo Scaling with Deadband\n",
    "\n",
    "**Expo scaling** provides finer demand control at low input values.\n",
    "\n",
    "**Deadband** prevents a demand signal while the joystick is in its neutral postion.  This demand can be caused by minor mechanical misadjustments of the joystick.\n",
    "\n",
    "Sample data, `ramp`, is a simulated joystick full-range movement producing an input signal `[-1.0, 1.0]`."
   ]
  },
  {
   "cell_type": "code",
   "execution_count": null,
   "metadata": {},
   "outputs": [],
   "source": [
    "ramp = pd.DataFrame(data=np.arange(-1, 1, 0.01), index=np.arange(-1, 1, 0.01), columns=['default'])"
   ]
  },
  {
   "cell_type": "markdown",
   "metadata": {},
   "source": [
    "The `expo(x)` function transforms input values to output values. Parameters affecting the expo curve are:\n",
    "\n",
    "- `deadband` = the width of the input deadband\n",
    "- `scale` = the curvature of the expo scaling"
   ]
  },
  {
   "cell_type": "code",
   "execution_count": null,
   "metadata": {},
   "outputs": [],
   "source": [
    "deadband = 0.05\n",
    "scale = 1.0\n",
    "\n",
    "# offset allows full range output [-1.0, 1.0] by compensating for deadband\n",
    "offset = 1.0 / (scale * pow(1 - deadband, 3) + (1 - scale) * (1 - deadband))\n",
    "\n",
    "def expo(x):\n",
    "    if abs(x) < deadband:\n",
    "        return 0\n",
    "    y = x - deadband if x > 0 else x + deadband\n",
    "    return (scale * pow(y, 3) + (1 - scale) * y) * offset\n",
    "\n",
    "def plot_expo(df):\n",
    "    ax = df.plot()\n",
    "    plt.title(\"Joystick Expo Scaling with {} Deadband\".format(deadband))\n",
    "    plt.xlabel(\"Input\")\n",
    "    plt.ylabel(\"Output\")\n",
    "\n",
    "ramp[scale] = ramp['default'].apply(expo)\n",
    "\n",
    "plot_expo(ramp)"
   ]
  },
  {
   "cell_type": "markdown",
   "metadata": {},
   "source": [
    "## Output Rate Limiting\n",
    "\n",
    "**Rate Limiting** limits the rate of change of output for inputs that exceed a threshold value.\n",
    "\n",
    "Sample data, `step`, is a simulated joystick full-range step change input at time = 500 ms and a half-range step change at time = 2000 ms."
   ]
  },
  {
   "cell_type": "code",
   "execution_count": null,
   "metadata": {},
   "outputs": [],
   "source": [
    "p1 = pd.DataFrame(data={\"input\":-1}, index=np.arange(0, 500, 20))\n",
    "p2 = pd.DataFrame(data={\"input\":1}, index=np.arange(500, 2000, 20))\n",
    "p3 = pd.DataFrame(data={\"input\":0}, index=np.arange(2000, 2500, 20))\n",
    "step = p1.append([p2, p3])\n",
    "step.index.name = \"time\""
   ]
  },
  {
   "cell_type": "markdown",
   "metadata": {},
   "source": [
    "The `limit(x)` function transforms input values to output values. Parameters affecting the limit are:\n",
    "\n",
    "- `rate_limit` = the maximum change in output allowed"
   ]
  },
  {
   "cell_type": "code",
   "execution_count": null,
   "metadata": {},
   "outputs": [],
   "source": [
    "rate_limit = 0.04\n",
    "\n",
    "def limit(x):\n",
    "    if abs(x - limit.last) > rate_limit:\n",
    "        y = limit.last + math.copysign(rate_limit, x - limit.last)\n",
    "    else:\n",
    "        y = x\n",
    "    limit.last = y\n",
    "    return y\n",
    "\n",
    "limit.last = -1.0\n",
    "\n",
    "def plot_limit(df):\n",
    "    ax = df.plot()\n",
    "    pct_per_sec = rate_limit / (20/1000) * 100\n",
    "    plt.title(\"Rate Limiting at {}% Full Travel per sec\".format(pct_per_sec))\n",
    "    plt.xlabel(\"Time\")\n",
    "    plt.ylabel(\"Output\")\n",
    "\n",
    "\n",
    "            \n",
    "step['output'] = step['input'].apply(limit)"
   ]
  },
  {
   "cell_type": "markdown",
   "metadata": {},
   "source": [
    "With output rate limited at 200% full travel over a second, the output takes a full second to transition from -1 to 1 (200%)."
   ]
  },
  {
   "cell_type": "code",
   "execution_count": null,
   "metadata": {},
   "outputs": [],
   "source": [
    "plot_limit(step)"
   ]
  },
  {
   "cell_type": "code",
   "execution_count": null,
   "metadata": {},
   "outputs": [],
   "source": [
    "w = 400\n",
    "\n",
    "step = pd.DataFrame(data={\"input\":0}, index=np.arange(0, w, 20))\n",
    "step.index.name = \"time\"\n",
    "\n",
    "for seg in range(1, 5):\n",
    "    input = 1 if seg % 2 else 0\n",
    "    step = step.append(pd.DataFrame(data={\"input\":input}, index=np.arange(seg * w, (seg + 1) * w, 20))) \n",
    "\n",
    "limit.last = 0\n",
    "step['output'] = step['input'].apply(limit)"
   ]
  },
  {
   "cell_type": "markdown",
   "metadata": {},
   "source": [
    "With output rate limited at 200% full travel over a second, a step transition lasting 400 ms produces a 80% output transition."
   ]
  },
  {
   "cell_type": "code",
   "execution_count": null,
   "metadata": {},
   "outputs": [],
   "source": [
    "plot_limit(step)"
   ]
  },
  {
   "cell_type": "markdown",
   "metadata": {},
   "source": [
    "Just for fun, a sine wave input with a 1,000 ms full throttle superimposed at 1,800 ms."
   ]
  },
  {
   "cell_type": "code",
   "execution_count": null,
   "metadata": {},
   "outputs": [],
   "source": [
    "sine = pd.DataFrame(index=np.arange(0, 5000, 20))\n",
    "sine['input'] = sine.index.map(lambda x: math.sin(math.radians(x/4)/3.5))\n",
    "sine.loc[1800:2800, 'input'] = 1\n",
    "limit.last = 0\n",
    "sine['output'] = sine['input'].apply(limit)"
   ]
  },
  {
   "cell_type": "code",
   "execution_count": null,
   "metadata": {},
   "outputs": [],
   "source": [
    "plot_limit(sine)"
   ]
  },
  {
   "cell_type": "code",
   "execution_count": null,
   "metadata": {},
   "outputs": [],
   "source": []
  }
 ],
 "metadata": {
  "kernelspec": {
   "display_name": "Python 3",
   "language": "python",
   "name": "python3"
  },
  "language_info": {
   "codemirror_mode": {
    "name": "ipython",
    "version": 3
   },
   "file_extension": ".py",
   "mimetype": "text/x-python",
   "name": "python",
   "nbconvert_exporter": "python",
   "pygments_lexer": "ipython3",
   "version": "3.6.4"
  }
 },
 "nbformat": 4,
 "nbformat_minor": 2
}
