{
 "cells": [
  {
   "cell_type": "code",
   "execution_count": null,
   "metadata": {},
   "outputs": [],
   "source": [
    "import pandas as pd\n",
    "import numpy as np\n",
    "import json\n",
    "import toml\n",
    "import math\n",
    "import matplotlib.pyplot as plt\n",
    "import subprocess\n",
    "%matplotlib notebook"
   ]
  },
  {
   "cell_type": "markdown",
   "metadata": {},
   "source": [
    "# Pathfinder Visualization\n",
    "This uses our Java robot code and the [Pathfinder](https://github.com/JacisNonsense/Pathfinder) library to output trajectory points to a `.csv` file we use to plot.\n",
    "\n",
    "Parameters are:\n",
    "\n",
    "- `dt` = iteration time, loop period (ms)\n",
    "- `v_max` = max velocity (ft/sec)\n",
    "- `a_max` = max acceleration (ft/sec/sec)\n",
    "- `j_max` = max jerk (ft/sec/sec/sec)\n",
    "- `waypoints` = x, y, and exit angle (degrees) \n"
   ]
  },
  {
   "cell_type": "code",
   "execution_count": null,
   "metadata": {},
   "outputs": [],
   "source": [
    "toml_str = \"\"\"\n",
    "waypoints = [\n",
    "  {x = -4.0, y = -1.0, angle = -45.0},\n",
    "  {x = -2.0, y = -2.0, angle = 0.0},\n",
    "  {x = 0.0, y = 0.0, angle = 0.0},\n",
    "]\n",
    "fit              = \"HERMITE_CUBIC\"\n",
    "sample_count     = 100_000\n",
    "dt               = 0.050    # sec\n",
    "max_velocity     = 1.7   # m/sec\n",
    "max_acceleration = 2.0  # m/sec/sec\n",
    "max_jerk         = 60.0  # m/sec/sec/sec\n",
    "\"\"\""
   ]
  },
  {
   "cell_type": "code",
   "execution_count": null,
   "metadata": {},
   "outputs": [],
   "source": [
    "process = subprocess.run(\n",
    "    \"MOTION_OPTS=-Djava.library.path={0}/lib {0}/bin/motion '{1}'\".format(\n",
    "        \"../build/install/motion\",\n",
    "        json.dumps({\"pathfinder\": {\"toml\": toml_str}})),\n",
    "    shell=True)\n",
    "\n",
    "df = pd.read_csv(\"trajectory.csv\")\n",
    "path = toml.loads(toml_str)\n",
    "wp = pd.DataFrame(path['waypoints'])"
   ]
  },
  {
   "cell_type": "code",
   "execution_count": null,
   "metadata": {},
   "outputs": [],
   "source": [
    "print(\"time to end point    = {:.0f} ms\".format(df.index.max()))\n",
    "print(\"max velocity         = {:.1f} ft/sec\".format(df['velocity'].max()))\n",
    "print(\"max acceleration     = {:.1f} ft/sec^2\".format(df['acceleration'].max()))\n",
    "print(\"max jerk             = {:.1f} ft/sec^3\".format(df['jerk'].max()))"
   ]
  },
  {
   "cell_type": "code",
   "execution_count": null,
   "metadata": {},
   "outputs": [],
   "source": [
    "ax = df.plot.scatter('x', 'y')\n",
    "wp.plot.scatter('x', 'y', c='r', ax=ax)\n",
    "ax.axis('equal')\n",
    "plt.grid(True, color='lightgray', linestyle='--', linewidth=0.6)"
   ]
  },
  {
   "cell_type": "code",
   "execution_count": null,
   "metadata": {},
   "outputs": [],
   "source": [
    "df.loc[:,['position', 'velocity', 'acceleration']].plot()\n",
    "plt.grid(True, color='lightgray', linestyle='--', linewidth=0.6)\n",
    "plt.xlabel(\"Time (ms)\")\n",
    "l = plt.legend([\"Position ($m$)\", \"Velocity ($m/sec$)\", \"Acceleration ($m/sec^2$)\"])"
   ]
  },
  {
   "cell_type": "code",
   "execution_count": null,
   "metadata": {},
   "outputs": [],
   "source": []
  },
  {
   "cell_type": "code",
   "execution_count": null,
   "metadata": {},
   "outputs": [],
   "source": []
  }
 ],
 "metadata": {
  "kernelspec": {
   "display_name": "Python 3",
   "language": "python",
   "name": "python3"
  },
  "language_info": {
   "codemirror_mode": {
    "name": "ipython",
    "version": 3
   },
   "file_extension": ".py",
   "mimetype": "text/x-python",
   "name": "python",
   "nbconvert_exporter": "python",
   "pygments_lexer": "ipython3",
   "version": "3.6.4"
  }
 },
 "nbformat": 4,
 "nbformat_minor": 2
}
