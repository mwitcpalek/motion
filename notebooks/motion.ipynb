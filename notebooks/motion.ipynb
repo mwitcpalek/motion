{
 "cells": [
  {
   "cell_type": "code",
   "execution_count": null,
   "metadata": {},
   "outputs": [],
   "source": [
    "import pandas as pd\n",
    "import numpy as np\n",
    "import json\n",
    "import math\n",
    "import matplotlib.pyplot as plt\n",
    "import subprocess\n",
    "%matplotlib notebook"
   ]
  },
  {
   "cell_type": "markdown",
   "metadata": {},
   "source": [
    "# Motion Profile Visualization\n",
    "This uses our Java robot code to output motion profile points to a `.csv` file we use to plot.\n",
    "\n",
    "Parameters are:\n",
    "\n",
    "- `dt` = iteration time, loop period (ms)\n",
    "- `t1` = time for first filter (ms)\n",
    "- `t2` = time for second filter (ms)\n",
    "- `v_prog` = desired max velocity (ft/sec)\n",
    "- `dist` = travel distance (ft)\n"
   ]
  },
  {
   "cell_type": "code",
   "execution_count": null,
   "metadata": {},
   "outputs": [],
   "source": [
    "dt     = 10\n",
    "t1     = 200\n",
    "t2     = 100\n",
    "v_prog = 16\n",
    "dist   = 8"
   ]
  },
  {
   "cell_type": "code",
   "execution_count": null,
   "metadata": {},
   "outputs": [],
   "source": [
    "motion_input = {\"motion\":{\"dt\":dt, \"t1\": t1, \"t2\": t2, \"v_prog\": v_prog, \"dist\": dist}}"
   ]
  },
  {
   "cell_type": "code",
   "execution_count": null,
   "metadata": {},
   "outputs": [],
   "source": [
    "process = subprocess.run(\"../build/install/motion/bin/motion '{}'\".format(json.dumps(motion_input)), shell=True)"
   ]
  },
  {
   "cell_type": "code",
   "execution_count": null,
   "metadata": {},
   "outputs": [],
   "source": [
    "df = pd.read_csv(\"output.csv\", index_col=\"Time\")"
   ]
  },
  {
   "cell_type": "code",
   "execution_count": null,
   "metadata": {},
   "outputs": [],
   "source": [
    "print(\"time to end point    = {:.0f} ms\".format(df.index.max()))\n",
    "print(\"time to max velocity = {:.0f} ms\".format((math.ceil(t1/dt) + math.ceil(t2/dt))*dt))\n",
    "print(\"max velocity         = {:.1f} ft/sec\".format(df['Velocity'].max()))\n",
    "print(\"max acceleration     = {:.1f} ft/sec^2\".format(df['Acceleration'].max()))"
   ]
  },
  {
   "cell_type": "code",
   "execution_count": null,
   "metadata": {},
   "outputs": [],
   "source": [
    "df.loc[:,['Position', 'Velocity', 'Acceleration']].plot()\n",
    "plt.grid(True, color='lightgray', linestyle='--', linewidth=0.6)\n",
    "plt.xlabel(\"Time (ms)\")\n",
    "plt.legend([\"Velocity ($ft/sec$)\", \"Acceleration ($ft/sec^2$)\"])\n",
    "text = plt.text(0,\n",
    "                df['Acceleration'].min(),\n",
    "        \"$dt = {} ms$\\n$t_1 = {} ms$\\n$t_2 = {} ms$\\n$v_{{prog}} = {} ft/sec$\\n$d = {} ft$\".format(dt, t1, t2, v_prog, dist),\n",
    "       bbox=dict(facecolor='white', edgecolor='lightgray'))"
   ]
  },
  {
   "cell_type": "code",
   "execution_count": null,
   "metadata": {},
   "outputs": [],
   "source": []
  }
 ],
 "metadata": {
  "kernelspec": {
   "display_name": "Python 3",
   "language": "python",
   "name": "python3"
  },
  "language_info": {
   "codemirror_mode": {
    "name": "ipython",
    "version": 3
   },
   "file_extension": ".py",
   "mimetype": "text/x-python",
   "name": "python",
   "nbconvert_exporter": "python",
   "pygments_lexer": "ipython3",
   "version": "3.6.4"
  }
 },
 "nbformat": 4,
 "nbformat_minor": 2
}
