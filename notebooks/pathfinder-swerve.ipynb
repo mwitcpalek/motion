{
 "cells": [
  {
   "cell_type": "code",
   "execution_count": null,
   "metadata": {},
   "outputs": [],
   "source": [
    "import pandas as pd\n",
    "import numpy as np\n",
    "import json\n",
    "import toml\n",
    "import math\n",
    "import matplotlib.pyplot as plt\n",
    "import subprocess\n",
    "%matplotlib notebook"
   ]
  },
  {
   "cell_type": "markdown",
   "metadata": {},
   "source": [
    "# Pathfinder Swerve Path Visualization\n",
    "This uses our Java robot code and the [Pathfinder](https://github.com/JacisNonsense/Pathfinder) library to output trajectory points to a `.csv` file we use to plot.\n",
    "\n",
    "The velocity and headings for each segment is transformed into a `forward` and `strafe` input to the swerve drive.\n",
    "\n",
    "Parameters are:\n",
    "\n",
    "- `dt` = iteration time, loop period (ms)\n",
    "- `v_max` = max velocity (ft/sec)\n",
    "- `a_max` = max acceleration (ft/sec/sec)\n",
    "- `j_max` = max jerk (ft/sec/sec/sec)\n",
    "- `waypoints` = x, y, and exit angle (degrees) \n"
   ]
  },
  {
   "cell_type": "markdown",
   "metadata": {},
   "source": [
    "## Drive forward down field"
   ]
  },
  {
   "cell_type": "code",
   "execution_count": null,
   "metadata": {},
   "outputs": [],
   "source": [
    "# drive forward down field\n",
    "toml_str = \"\"\"\n",
    "waypoints = [\n",
    "  {x = 0.0, y = 0.0, angle = 0.0},\n",
    "  {x = 1.0, y = 0.0, angle = 0.0},\n",
    "\n",
    "]\n",
    "fit              = \"HERMITE_CUBIC\"\n",
    "sample_count     = 100_000\n",
    "dt               = 0.05  # sec\n",
    "max_velocity     = 1.7   # m/sec\n",
    "max_acceleration = 2.0   # m/sec/sec\n",
    "max_jerk         = 60.0  # m/sec/sec/sec\n",
    "\"\"\""
   ]
  },
  {
   "cell_type": "code",
   "execution_count": null,
   "metadata": {},
   "outputs": [],
   "source": [
    "process = subprocess.run(\n",
    "    \"MOTION_OPTS=-Djava.library.path={0}/lib {0}/bin/motion '{1}'\".format(\n",
    "        \"../build/install/motion\",\n",
    "        json.dumps({\"pathfinder\": {\"toml\": toml_str}})),\n",
    "    shell=True)\n",
    "\n",
    "df = pd.read_csv(\"trajectory.csv\")\n",
    "path = toml.loads(toml_str)\n",
    "wp = pd.DataFrame(path['waypoints'])"
   ]
  },
  {
   "cell_type": "code",
   "execution_count": null,
   "metadata": {
    "scrolled": false
   },
   "outputs": [],
   "source": [
    "ax = df.plot.scatter('x', 'y')\n",
    "wp.plot.scatter('x', 'y', c='r', ax=ax)\n",
    "ax.axis('equal')\n",
    "plt.grid(True, color='lightgray', linestyle='--', linewidth=0.6)"
   ]
  },
  {
   "cell_type": "code",
   "execution_count": null,
   "metadata": {},
   "outputs": [],
   "source": [
    "df['heading_deg'] = df['heading'].apply(math.degrees)\n",
    "df['velocity_normalized'] = df['velocity'] / df['velocity'].max()\n",
    "df['forward'] = df['heading'].apply(math.cos) * df['velocity_normalized']\n",
    "df['strafe'] = -df['heading'].apply(math.sin) * df['velocity_normalized']\n",
    "df[['heading_deg', 'velocity', 'velocity_normalized', 'forward', 'strafe']]"
   ]
  },
  {
   "cell_type": "markdown",
   "metadata": {},
   "source": [
    "## Drive at 60 deg relative to field"
   ]
  },
  {
   "cell_type": "code",
   "execution_count": null,
   "metadata": {},
   "outputs": [],
   "source": [
    "degrees = 60.0\n",
    "\n",
    "# drive at 60 deg relative to field\n",
    "toml_str = \"\"\"\n",
    "waypoints = [\n",
    "  {{x = 0.0, y = 0.0, angle = {0}}},\n",
    "  {{x = {1}, y = {2}, angle = {0}}},\n",
    "\n",
    "]\n",
    "fit              = \"HERMITE_CUBIC\"\n",
    "sample_count     = 100_000\n",
    "dt               = 0.05  # sec\n",
    "max_velocity     = 1.7   # m/sec\n",
    "max_acceleration = 2.0   # m/sec/sec\n",
    "max_jerk         = 60.0  # m/sec/sec/sec\n",
    "\"\"\".format(degrees, math.cos(math.radians(degrees)), math.sin(math.radians(degrees)))"
   ]
  },
  {
   "cell_type": "code",
   "execution_count": null,
   "metadata": {},
   "outputs": [],
   "source": [
    "process = subprocess.run(\n",
    "    \"MOTION_OPTS=-Djava.library.path={0}/lib {0}/bin/motion '{1}'\".format(\n",
    "        \"../build/install/motion\",\n",
    "        json.dumps({\"pathfinder\": {\"toml\": toml_str}})),\n",
    "    shell=True)\n",
    "\n",
    "df = pd.read_csv(\"trajectory.csv\")\n",
    "path = toml.loads(toml_str)\n",
    "wp = pd.DataFrame(path['waypoints'])"
   ]
  },
  {
   "cell_type": "code",
   "execution_count": null,
   "metadata": {
    "scrolled": false
   },
   "outputs": [],
   "source": [
    "ax = df.plot.scatter('x', 'y')\n",
    "wp.plot.scatter('x', 'y', c='r', ax=ax)\n",
    "ax.axis('equal')\n",
    "plt.grid(True, color='lightgray', linestyle='--', linewidth=0.6)"
   ]
  },
  {
   "cell_type": "code",
   "execution_count": null,
   "metadata": {
    "scrolled": false
   },
   "outputs": [],
   "source": [
    "df['heading_deg'] = df['heading'].apply(math.degrees)\n",
    "df['velocity_normalized'] = df['velocity'] / df['velocity'].max()\n",
    "df['forward'] = df['heading'].apply(math.cos) * df['velocity_normalized']\n",
    "df['strafe'] = -df['heading'].apply(math.sin) * df['velocity_normalized']\n",
    "df[['heading_deg', 'velocity', 'velocity_normalized', 'forward', 'strafe']]"
   ]
  },
  {
   "cell_type": "markdown",
   "metadata": {},
   "source": [
    "## Drive in a dogleg, down and across field"
   ]
  },
  {
   "cell_type": "code",
   "execution_count": null,
   "metadata": {},
   "outputs": [],
   "source": [
    "degrees = 60.0\n",
    "\n",
    "# drive at 60 deg relative to field\n",
    "toml_str = \"\"\"\n",
    "waypoints = [\n",
    "  {x = 0.0, y = 0.0, angle = 0.0},\n",
    "  {x = 1.0, y = 1.0, angle = 90.0},\n",
    "\n",
    "]\n",
    "fit              = \"HERMITE_CUBIC\"\n",
    "sample_count     = 100_000\n",
    "dt               = 0.05  # sec\n",
    "max_velocity     = 1.7   # m/sec\n",
    "max_acceleration = 2.0   # m/sec/sec\n",
    "max_jerk         = 60.0  # m/sec/sec/sec\n",
    "\"\"\""
   ]
  },
  {
   "cell_type": "code",
   "execution_count": null,
   "metadata": {},
   "outputs": [],
   "source": [
    "process = subprocess.run(\n",
    "    \"MOTION_OPTS=-Djava.library.path={0}/lib {0}/bin/motion '{1}'\".format(\n",
    "        \"../build/install/motion\",\n",
    "        json.dumps({\"pathfinder\": {\"toml\": toml_str}})),\n",
    "    shell=True)\n",
    "\n",
    "df = pd.read_csv(\"trajectory.csv\")\n",
    "path = toml.loads(toml_str)\n",
    "wp = pd.DataFrame(path['waypoints'])"
   ]
  },
  {
   "cell_type": "code",
   "execution_count": null,
   "metadata": {
    "scrolled": false
   },
   "outputs": [],
   "source": [
    "ax = df.plot.scatter('x', 'y')\n",
    "wp.plot.scatter('x', 'y', c='r', ax=ax)\n",
    "ax.axis('equal')\n",
    "plt.grid(True, color='lightgray', linestyle='--', linewidth=0.6)"
   ]
  },
  {
   "cell_type": "code",
   "execution_count": null,
   "metadata": {
    "scrolled": false
   },
   "outputs": [],
   "source": [
    "df['heading_deg'] = df['heading'].apply(math.degrees)\n",
    "df['velocity_normalized'] = df['velocity'] / df['velocity'].max()\n",
    "df['forward'] = df['heading'].apply(math.cos) * df['velocity_normalized']\n",
    "df['strafe'] = -df['heading'].apply(math.sin) * df['velocity_normalized']\n",
    "df[['heading_deg', 'velocity', 'velocity_normalized', 'forward', 'strafe']]"
   ]
  },
  {
   "cell_type": "code",
   "execution_count": null,
   "metadata": {},
   "outputs": [],
   "source": [
    "\n",
    "df.loc[:,['forward', 'strafe']].plot()"
   ]
  },
  {
   "cell_type": "code",
   "execution_count": null,
   "metadata": {},
   "outputs": [],
   "source": [
    "df"
   ]
  },
  {
   "cell_type": "code",
   "execution_count": null,
   "metadata": {},
   "outputs": [],
   "source": []
  }
 ],
 "metadata": {
  "kernelspec": {
   "display_name": "Python 3",
   "language": "python",
   "name": "python3"
  },
  "language_info": {
   "codemirror_mode": {
    "name": "ipython",
    "version": 3
   },
   "file_extension": ".py",
   "mimetype": "text/x-python",
   "name": "python",
   "nbconvert_exporter": "python",
   "pygments_lexer": "ipython3",
   "version": "3.6.4"
  }
 },
 "nbformat": 4,
 "nbformat_minor": 2
}
